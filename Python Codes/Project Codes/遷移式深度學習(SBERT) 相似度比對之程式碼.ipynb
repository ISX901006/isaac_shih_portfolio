{
 "cells": [
  {
   "cell_type": "code",
   "execution_count": null,
   "metadata": {},
   "outputs": [],
   "source": [
    "# 1. 引入所需套件\n",
    "from sentence_transformers import SentenceTransformer, util\n",
    "from torch.utils.data import DataLoader\n",
    "import openpyxl\n",
    "\n",
    "# 2. 讀取Excel資料\n",
    "workbook = openpyxl.load_workbook('111_Courses_1.xlsx')\n",
    "worksheet = workbook.active\n",
    "workbook1 = openpyxl.Workbook()\n",
    "workbook = openpyxl.load_workbook('111_Courses_1.xlsx')\n",
    "worksheet = workbook.active\n",
    "i=2\n",
    "for sheet in worksheet:\n",
    "   target_row = i\n",
    "   target_column =  4\n",
    "  \n",
    "   cell_value = worksheet.cell(row=target_row, column=target_column).value\n",
    "   cell = worksheet.cell(row=i,column=2).value.replace(\"\\n\",\"\")\n",
    "   num =  worksheet.cell(row=i,column=1).value.replace(\"\\n\",\"\")\n",
    "   i=i+1\n",
    "\n",
    "   model = SentenceTransformer('paraphrase-multilingual-mpnet-base-v2')\n",
    "# 3. 產生詞嵌入陣列\n",
    "   sentences = [‘欲比對之職業敘述’',cell_value ]\n",
    "   embeddings = model.encode(sentences)\n",
    "   cosine_scores = util.pytorch_cos_sim(embeddings, embeddings)\n",
    "   j = 1\n",
    "   while (j < len(sentences)):\n",
    "       c=cosine_scores[0][j].item()\n",
    "       print(i-2,' ',num,cell,\"相似度：\",c)\n",
    "       j = j + 1 \n",
    "\n",
    "workbook.close()\n"
   ]
  }
 ],
 "metadata": {
  "language_info": {
   "name": "python"
  }
 },
 "nbformat": 4,
 "nbformat_minor": 2
}
