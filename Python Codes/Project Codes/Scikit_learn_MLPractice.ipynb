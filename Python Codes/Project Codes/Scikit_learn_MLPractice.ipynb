{
  "nbformat": 4,
  "nbformat_minor": 0,
  "metadata": {
    "colab": {
      "provenance": []
    },
    "kernelspec": {
      "name": "python3",
      "display_name": "Python 3"
    },
    "language_info": {
      "name": "python"
    }
  },
  "cells": [
    {
      "cell_type": "markdown",
      "source": [
        "# 準備工作：讀入套件"
      ],
      "metadata": {
        "id": "lZKi9ik6Llv7"
      }
    },
    {
      "cell_type": "code",
      "source": [
        "%matplotlib inline\n",
        "import matplotlib.pyplot as plt\n",
        "import numpy as np\n",
        "import pandas as pd\n",
        "import seaborn as sns"
      ],
      "metadata": {
        "id": "M0OwFM2wLmQG"
      },
      "execution_count": null,
      "outputs": []
    },
    {
      "cell_type": "markdown",
      "source": [
        "# 範例 1：線性迴歸模型"
      ],
      "metadata": {
        "id": "yqEJ2lIhLiBw"
      }
    },
    {
      "cell_type": "markdown",
      "source": [
        "## a) 準備資料集"
      ],
      "metadata": {
        "id": "0TGI5cZ4eUfM"
      }
    },
    {
      "cell_type": "code",
      "execution_count": null,
      "metadata": {
        "id": "N_24NIGLLV-S"
      },
      "outputs": [],
      "source": [
        "n = 50\n",
        "x = np.linspace(0, 5, n)\n",
        "z = 1.2*x - 0.8"
      ]
    },
    {
      "cell_type": "markdown",
      "source": [
        "接著，我們將資料點畫在二維平面上"
      ],
      "metadata": {
        "id": "2jq-uGMWLvq-"
      }
    },
    {
      "cell_type": "code",
      "source": [
        "plt.figure(figsize=(8, 4))\n",
        "plt.subplot(1, 2, 1)\n",
        "plt.scatter(x, z)\n",
        "plt.title(\"$f(x)=1.2x-0.8$\")\n",
        "\n",
        "y = z + 0.4*np.random.randn(n)\n",
        "plt.subplot(1, 2, 2)\n",
        "plt.scatter(x, y)\n",
        "plt.title(\"$\\hat{f}(x)=f(x)+\\epsilon, \\epsilon\\sim N(0, 0.4^2)$\");"
      ],
      "metadata": {
        "id": "q9cfXcdpLty6"
      },
      "execution_count": null,
      "outputs": []
    },
    {
      "cell_type": "markdown",
      "source": [
        "順便檢查一下資料的尺寸（shape）"
      ],
      "metadata": {
        "id": "4lQsDG-EMLf0"
      }
    },
    {
      "cell_type": "code",
      "source": [
        "print(x.shape)\n",
        "print(y.shape)"
      ],
      "metadata": {
        "id": "CNFS4smsMLlH"
      },
      "execution_count": null,
      "outputs": []
    },
    {
      "cell_type": "markdown",
      "source": [
        "要注意到的是，進行模型時，輸入/輸出資料的長相通常會是 $(N, D)$ 的長相，所以我們需要做一點小小的調整"
      ],
      "metadata": {
        "id": "7TCJ0ny6MRXe"
      }
    },
    {
      "cell_type": "code",
      "source": [
        "X = x.reshape(50, 1)"
      ],
      "metadata": {
        "id": "Li6EkQfcMLnN"
      },
      "execution_count": null,
      "outputs": []
    },
    {
      "cell_type": "markdown",
      "source": [
        "## b) 打造線性迴歸模型\n",
        "\n",
        "首先，我們從 Scikit-learn 當中讀入線性分類器模型 ``LinearRegression``"
      ],
      "metadata": {
        "id": "4yi2RHdELz4O"
      }
    },
    {
      "cell_type": "code",
      "source": [
        "from sklearn.linear_model import LinearRegression"
      ],
      "metadata": {
        "id": "89vx0F8zLujt"
      },
      "execution_count": null,
      "outputs": []
    },
    {
      "cell_type": "markdown",
      "source": [
        "我們先初始化一台線性迴歸模型吧！"
      ],
      "metadata": {
        "id": "sUW22n_oMAyj"
      }
    },
    {
      "cell_type": "code",
      "source": [
        "regr = LinearRegression()"
      ],
      "metadata": {
        "id": "ZleiK3g8MDKT"
      },
      "execution_count": null,
      "outputs": []
    },
    {
      "cell_type": "markdown",
      "source": [
        "接下來，就是要讓線性迴歸模型在資料上學習"
      ],
      "metadata": {
        "id": "UCBbIHtjMmhV"
      }
    },
    {
      "cell_type": "code",
      "source": [
        "regr.fit(X, y)"
      ],
      "metadata": {
        "id": "oCdoWYzTMD7i"
      },
      "execution_count": null,
      "outputs": []
    },
    {
      "cell_type": "markdown",
      "source": [
        "這樣就結束了嗎？沒錯，在實務的資料科學任務中，訓練模型通常佔不到30%的比例。\n",
        "\n",
        "那我們接下來要做什麼呢？當然就看看我們的模型訓練得好不好囉~"
      ],
      "metadata": {
        "id": "EK5uyeMGQAt4"
      }
    },
    {
      "cell_type": "markdown",
      "source": [
        "## c) 評估線性迴歸模型的訓練結果"
      ],
      "metadata": {
        "id": "hJCkDeQqQAU-"
      }
    },
    {
      "cell_type": "markdown",
      "source": [
        "來看看訓練結果，我們使用 ``predict()`` 來對輸入資料進行預測"
      ],
      "metadata": {
        "id": "lfi-ImbrOIbI"
      }
    },
    {
      "cell_type": "code",
      "source": [
        "y_pred = regr.predict(X)"
      ],
      "metadata": {
        "id": "ki5uERywMl-L"
      },
      "execution_count": null,
      "outputs": []
    },
    {
      "cell_type": "markdown",
      "source": [
        "接著將圖畫出來，就能看出模型的預測值與資料集的差異"
      ],
      "metadata": {
        "id": "PH42OJKPORjW"
      }
    },
    {
      "cell_type": "code",
      "source": [
        "plt.figure(figsize=(4, 4))\n",
        "plt.scatter(x, y)\n",
        "plt.plot(x, y_pred, 'r');"
      ],
      "metadata": {
        "id": "aXnxfTa4OU1U"
      },
      "execution_count": null,
      "outputs": []
    },
    {
      "cell_type": "markdown",
      "source": [
        "如果我們想知道訓練出來的迴歸直線的斜率（slope）和截距（intercept），可以使用 ``regr.coef_`` 和 ``regr.intercept_`` 來取得這兩些參數"
      ],
      "metadata": {
        "id": "mILdh51zOuyx"
      }
    },
    {
      "cell_type": "code",
      "source": [
        "regr.coef_"
      ],
      "metadata": {
        "id": "VCOLwR4lOYNG"
      },
      "execution_count": null,
      "outputs": []
    },
    {
      "cell_type": "code",
      "source": [
        "regr.intercept_"
      ],
      "metadata": {
        "id": "ocfmJvvVPU7y"
      },
      "execution_count": null,
      "outputs": []
    },
    {
      "cell_type": "code",
      "source": [
        "plt.figure(figsize=(6, 6))\n",
        "plt.scatter(x, y)\n",
        "plt.plot(x, y_pred, 'r');\n",
        "plt.title(f\"$y = {regr.coef_[0]:.2f}x{regr.intercept_:.2f}$\");"
      ],
      "metadata": {
        "id": "IlbR0AjbqQnC"
      },
      "execution_count": null,
      "outputs": []
    },
    {
      "cell_type": "markdown",
      "source": [
        "# 範例 2：線性迴歸預測股票隔日收盤價\n",
        "\n",
        "這裡，我們要使用雅虎的股價資料進行股價預測，我們使用每一天的收盤價來預測隔一天的收盤價。"
      ],
      "metadata": {
        "id": "IcUC1saNe_s5"
      }
    },
    {
      "cell_type": "code",
      "source": [
        "!pip install --upgrade pandas-datareader"
      ],
      "metadata": {
        "id": "ZIoldpZDfUza"
      },
      "execution_count": null,
      "outputs": []
    },
    {
      "cell_type": "code",
      "source": [
        "from pandas_datareader import data as pdr\n",
        "import yfinance as yfin"
      ],
      "metadata": {
        "id": "0V4zEjJsfGLo"
      },
      "execution_count": null,
      "outputs": []
    },
    {
      "cell_type": "markdown",
      "source": [
        "## a) 準備資料集"
      ],
      "metadata": {
        "id": "lhYamKNVe_s9"
      }
    },
    {
      "cell_type": "code",
      "execution_count": null,
      "metadata": {
        "id": "2LQ38yXLe_s-"
      },
      "outputs": [],
      "source": [
        "yfin.pdr_override()\n",
        "\n",
        "df = pdr.get_data_yahoo('AAPL')\n",
        "df = df[-300:]"
      ]
    },
    {
      "cell_type": "code",
      "source": [
        "df.head()"
      ],
      "metadata": {
        "id": "QkOjPRuy4iWG"
      },
      "execution_count": null,
      "outputs": []
    },
    {
      "cell_type": "code",
      "source": [
        "df.plot(y='Close', figsize=(12, 6));"
      ],
      "metadata": {
        "id": "gT48yKT_f71B"
      },
      "execution_count": null,
      "outputs": []
    },
    {
      "cell_type": "code",
      "source": [
        "date = df.index\n",
        "close_price = df.Close.values\n",
        "X = close_price[:-1].reshape(299, 1)\n",
        "Y = close_price[1:]"
      ],
      "metadata": {
        "id": "MIgZUrmOf7hF"
      },
      "execution_count": null,
      "outputs": []
    },
    {
      "cell_type": "code",
      "source": [
        "print(X.shape)\n",
        "print(Y.shape)"
      ],
      "metadata": {
        "id": "lmqbPgMTf1XG"
      },
      "execution_count": null,
      "outputs": []
    },
    {
      "cell_type": "markdown",
      "source": [
        "我們將後面 $40$ 筆資料作為測試資料，前面 $299-40=259$ 筆當作訓練資料。"
      ],
      "metadata": {
        "id": "CoxQdrH-gX2M"
      }
    },
    {
      "cell_type": "code",
      "source": [
        "t_train = date[:-40]\n",
        "x_train = X[:-40]\n",
        "y_train = Y[:-40]\n",
        "\n",
        "t_test = date[-40:]\n",
        "x_test = X[-40:]\n",
        "y_test = Y[-40:]"
      ],
      "metadata": {
        "id": "kjddYkoHgX_q"
      },
      "execution_count": null,
      "outputs": []
    },
    {
      "cell_type": "code",
      "source": [
        "print(x_train.shape)\n",
        "print(y_train.shape)"
      ],
      "metadata": {
        "id": "NWuiyGjZg40i"
      },
      "execution_count": null,
      "outputs": []
    },
    {
      "cell_type": "markdown",
      "source": [
        "接著，我們將資料點畫在二維平面上"
      ],
      "metadata": {
        "id": "bYR8688Ie_s-"
      }
    },
    {
      "cell_type": "code",
      "source": [
        "plt.figure(figsize=(6, 6))\n",
        "plt.scatter(x_train, y_train)\n",
        "plt.scatter(x_test, y_test)\n",
        "plt.legend([\"Train\", \"Test\"])\n",
        "plt.title(\"Scatter plot of $(s_t, s_{t+1})$\");"
      ],
      "metadata": {
        "id": "A453IFs7e_s-"
      },
      "execution_count": null,
      "outputs": []
    },
    {
      "cell_type": "markdown",
      "source": [
        "不管是訓練或是測試資料，看起來都落在一條線的上下，用線性迴歸模型似乎是很合理的選擇"
      ],
      "metadata": {
        "id": "PIb69VMle_s-"
      }
    },
    {
      "cell_type": "markdown",
      "source": [
        "## b) 打造線性迴歸模型"
      ],
      "metadata": {
        "id": "3Fd6gLule_s_"
      }
    },
    {
      "cell_type": "markdown",
      "source": [
        "我們先初始化一台線性迴歸模型吧！"
      ],
      "metadata": {
        "id": "37Wr9YpBe_s_"
      }
    },
    {
      "cell_type": "code",
      "source": [
        "price_regr = LinearRegression()"
      ],
      "metadata": {
        "id": "h26rbT0ue_s_"
      },
      "execution_count": null,
      "outputs": []
    },
    {
      "cell_type": "markdown",
      "source": [
        "接下來，就是要讓線性迴歸模型在資料上學習"
      ],
      "metadata": {
        "id": "lxpHOTCme_s_"
      }
    },
    {
      "cell_type": "code",
      "source": [
        "price_regr.fit(x_train, y_train)"
      ],
      "metadata": {
        "id": "n5pfl0I4e_s_"
      },
      "execution_count": null,
      "outputs": []
    },
    {
      "cell_type": "markdown",
      "source": [
        "這樣就結束了嗎？沒錯，在實務的資料科學任務中，訓練模型通常佔不到30%的比例。\n",
        "\n",
        "那我們接下來要做什麼呢？當然就看看我們的模型訓練得好不好囉~"
      ],
      "metadata": {
        "id": "OrbQ3ytee_s_"
      }
    },
    {
      "cell_type": "markdown",
      "source": [
        "## c) 評估線性迴歸模型在訓練資料與測試資料上的成果\n",
        "\n"
      ],
      "metadata": {
        "id": "XTOSE_ESe_s_"
      }
    },
    {
      "cell_type": "markdown",
      "source": [
        "我們使用 ``predict()`` 來對輸入資料進行預測"
      ],
      "metadata": {
        "id": "TX6HfJaGe_s_"
      }
    },
    {
      "cell_type": "code",
      "source": [
        "y_pred = price_regr.predict(x_train)"
      ],
      "metadata": {
        "id": "iFtVmfS6e_s_"
      },
      "execution_count": null,
      "outputs": []
    },
    {
      "cell_type": "markdown",
      "source": [
        "接著將圖畫出來，就能看出模型的預測值與資料集的差異"
      ],
      "metadata": {
        "id": "z2zxl2tne_tA"
      }
    },
    {
      "cell_type": "code",
      "source": [
        "plt.figure(figsize=(4, 4))\n",
        "plt.scatter(x_train, y_train)\n",
        "plt.plot(x_train, y_pred, 'r')\n",
        "plt.title(\"Scatter plot of $(s_t, s_{t+1})$\");"
      ],
      "metadata": {
        "id": "Rvsnz20Re_tA"
      },
      "execution_count": null,
      "outputs": []
    },
    {
      "cell_type": "markdown",
      "source": [
        "我們將每一天的預測價格（第2天開始)畫出來"
      ],
      "metadata": {
        "id": "tIf14z6De_tA"
      }
    },
    {
      "cell_type": "code",
      "source": [
        "date[:-41].shape"
      ],
      "metadata": {
        "id": "--okJAIwkjCY"
      },
      "execution_count": null,
      "outputs": []
    },
    {
      "cell_type": "code",
      "source": [
        "plt.figure(figsize=(8, 4))\n",
        "plt.subplot(1, 2, 1)\n",
        "plt.plot(t_train[1:], y_train)\n",
        "plt.plot(t_train[1:], price_regr.predict(x_train))\n",
        "plt.title(\"Prediction of Closing Price\")\n",
        "plt.legend([\"True\", \"Pred.\"])\n",
        "plt.xticks(rotation=-45)\n",
        "\n",
        "plt.subplot(1, 2, 2)\n",
        "error = y_train - price_regr.predict(x_train)\n",
        "plt.plot(t_train[1:], error)\n",
        "plt.hlines(0, date[1], date[-40], linestyles='dashed')\n",
        "plt.title(\"Prediction Error\")\n",
        "plt.xticks(rotation=-45);"
      ],
      "metadata": {
        "id": "kc1MiARwjfkz"
      },
      "execution_count": null,
      "outputs": []
    },
    {
      "cell_type": "code",
      "source": [
        "plt.figure(figsize=(8, 4))\n",
        "plt.subplot(1, 2, 1)\n",
        "plt.plot(t_test[-40:], y_test)\n",
        "plt.plot(t_test[-40:], price_regr.predict(x_test))\n",
        "plt.title(\"Prediction of Closing Price\")\n",
        "plt.legend([\"True\", \"Pred.\"])\n",
        "plt.xticks(rotation=-45)\n",
        "\n",
        "plt.subplot(1, 2, 2)\n",
        "error = y_test - price_regr.predict(x_test)\n",
        "plt.plot(t_test[-40:], error)\n",
        "plt.hlines(0, date[-40], date[-2], linestyles='dashed')\n",
        "plt.title(\"Prediction Error\")\n",
        "plt.xticks(rotation=-45);"
      ],
      "metadata": {
        "id": "UjQWk3Voe_tA"
      },
      "execution_count": null,
      "outputs": []
    },
    {
      "cell_type": "markdown",
      "source": [
        "## d) 連續預測"
      ],
      "metadata": {
        "id": "tACSE_2xlpqx"
      }
    },
    {
      "cell_type": "markdown",
      "source": [
        "我們可以從某一天開始預測，然後用預測出的隔日收盤價，再去預測再隔一日的收盤價，以此類推，往後預測40天，看看結果是如何"
      ],
      "metadata": {
        "id": "8TlVmglEok2H"
      }
    },
    {
      "cell_type": "code",
      "source": [
        "predicts = []\n",
        "x0 = x_test[0]\n",
        "for _ in range(40):\n",
        "    y0 = price_regr.predict([x0])\n",
        "    predicts.append(y0)\n",
        "    x0 = y0\n",
        "\n",
        "predicts = np.array(predicts).flatten()"
      ],
      "metadata": {
        "id": "7aj7GeVAlsav"
      },
      "execution_count": null,
      "outputs": []
    },
    {
      "cell_type": "code",
      "source": [
        "plt.figure(figsize=(4, 4))\n",
        "plt.plot(t_test[-40:], y_test)\n",
        "plt.plot(t_test[-40:], predicts)\n",
        "plt.title(\"Prediction of Closing Price\")\n",
        "plt.legend([\"True\", \"Pred.\"])\n",
        "plt.xticks(rotation=-45);"
      ],
      "metadata": {
        "id": "-tCqz8FYlsc1"
      },
      "execution_count": null,
      "outputs": []
    },
    {
      "cell_type": "markdown",
      "source": [
        "# 範例 3：SVC 分類模型\n",
        "\n",
        "我們先來看看一個簡單的練習用資料集"
      ],
      "metadata": {
        "id": "gud60NDmo4cm"
      }
    },
    {
      "cell_type": "markdown",
      "source": [
        "## a) 準備資料集"
      ],
      "metadata": {
        "id": "bJrCTAAvo4cn"
      }
    },
    {
      "cell_type": "code",
      "execution_count": null,
      "metadata": {
        "id": "q365aoi1o4cn"
      },
      "outputs": [],
      "source": [
        "x = np.array([[-3, 2], [-6, 5], [3, -4], [2, -8]])\n",
        "y = np.array([1, 1, 2, 2])"
      ]
    },
    {
      "cell_type": "markdown",
      "source": [
        "接著，我們將資料點畫在二維平面上，並將點按照類別來著色"
      ],
      "metadata": {
        "id": "iaaeHLlNo4cn"
      }
    },
    {
      "cell_type": "code",
      "source": [
        "plt.scatter(x[:, 0], x[:, 1], c=y, s=100);"
      ],
      "metadata": {
        "id": "MjFbWvyopUMz"
      },
      "execution_count": null,
      "outputs": []
    },
    {
      "cell_type": "markdown",
      "source": [
        "順便檢查一下資料的尺寸（shape）"
      ],
      "metadata": {
        "id": "Akm55lNEo4co"
      }
    },
    {
      "cell_type": "code",
      "source": [
        "print(x.shape)\n",
        "print(y.shape)"
      ],
      "metadata": {
        "id": "lun4f4bno4co"
      },
      "execution_count": null,
      "outputs": []
    },
    {
      "cell_type": "markdown",
      "source": [
        "## b) 用 SVC 來打造非線性分類模型\n",
        "\n",
        "這邊要用到的是 ``SVC`` 這個基於支持向量機（SVM）的分類模型"
      ],
      "metadata": {
        "id": "UtfySc7Co4co"
      }
    },
    {
      "cell_type": "code",
      "source": [
        "from sklearn.svm import SVC"
      ],
      "metadata": {
        "id": "BqVQPp5go4co"
      },
      "execution_count": null,
      "outputs": []
    },
    {
      "cell_type": "markdown",
      "source": [
        "我們先初始化一台非線性分類模型吧！"
      ],
      "metadata": {
        "id": "_lW79k2no4co"
      }
    },
    {
      "cell_type": "code",
      "source": [
        "clf = SVC()"
      ],
      "metadata": {
        "id": "AL2yKgb8o4cp"
      },
      "execution_count": null,
      "outputs": []
    },
    {
      "cell_type": "markdown",
      "source": [
        "接下來，就是要讓分類模型對資料進行分類學習"
      ],
      "metadata": {
        "id": "1TtnbMwmo4cp"
      }
    },
    {
      "cell_type": "code",
      "source": [
        "clf.fit(x, y)"
      ],
      "metadata": {
        "id": "ororlUTIo4cp"
      },
      "execution_count": null,
      "outputs": []
    },
    {
      "cell_type": "markdown",
      "source": [
        "這樣就結束了嗎？沒錯，在實務的資料科學任務中，訓練模型通常佔不到30%的比例。\n",
        "\n",
        "那我們接下來要做什麼呢？當然就看看我們的模型訓練得好不好囉~"
      ],
      "metadata": {
        "id": "p5N2UmSko4cp"
      }
    },
    {
      "cell_type": "markdown",
      "source": [
        "## c) 評估 SVC 分類模型的訓練結果\n"
      ],
      "metadata": {
        "id": "sJiNmWgVo4cp"
      }
    },
    {
      "cell_type": "markdown",
      "source": [
        "來看看訓練結果，我們使用 ``predict()`` 來對輸入資料進行預測"
      ],
      "metadata": {
        "id": "iT6oEDD7o4cp"
      }
    },
    {
      "cell_type": "code",
      "source": [
        "print(x)\n",
        "print(y)"
      ],
      "metadata": {
        "id": "4mC8l0XntcVU"
      },
      "execution_count": null,
      "outputs": []
    },
    {
      "cell_type": "code",
      "source": [
        "y_pred = clf.predict(x)"
      ],
      "metadata": {
        "id": "DbJ_2JW7o4cp"
      },
      "execution_count": null,
      "outputs": []
    },
    {
      "cell_type": "markdown",
      "source": [
        "接下來，我們將包含所有資料點的矩形範圍都拿來預測"
      ],
      "metadata": {
        "id": "VeuPBowMtgzf"
      }
    },
    {
      "cell_type": "code",
      "source": [
        "x1, x2 = np.meshgrid(np.arange(-7, 4, 0.02), np.arange(-9, 6, 0.02))\n",
        "Z = clf.predict(np.c_[x1.ravel(), x2.ravel()])"
      ],
      "metadata": {
        "id": "PADYaIF9tWhn"
      },
      "execution_count": null,
      "outputs": []
    },
    {
      "cell_type": "markdown",
      "source": [
        "接著將圖畫出來，就能看出模型的預測值與資料集的差異"
      ],
      "metadata": {
        "id": "Xtmd4fyXo4cp"
      }
    },
    {
      "cell_type": "code",
      "source": [
        "z = Z.reshape(x1.shape)\n",
        "plt.contourf(x1, x2, z, alpha=0.3)\n",
        "plt.scatter(x[:,0], x[:,1], s=100, c=y)"
      ],
      "metadata": {
        "id": "BtuZFiVzo4cp"
      },
      "execution_count": null,
      "outputs": []
    },
    {
      "cell_type": "markdown",
      "source": [
        "# 範例 4：在鳶尾花資料集上打造 SVC 分類器"
      ],
      "metadata": {
        "id": "jqwS08F8ubWz"
      }
    },
    {
      "cell_type": "markdown",
      "source": [
        "首先，我們使用 Scikit-learn 內建的資料集"
      ],
      "metadata": {
        "id": "sLHqqZi0x2lY"
      }
    },
    {
      "cell_type": "markdown",
      "source": [
        "## a) 準備資料集"
      ],
      "metadata": {
        "id": "UujZ3BTlubW0"
      }
    },
    {
      "cell_type": "code",
      "execution_count": null,
      "metadata": {
        "id": "n_t2IRnjubW0"
      },
      "outputs": [],
      "source": [
        "from sklearn.datasets import load_iris"
      ]
    },
    {
      "cell_type": "markdown",
      "source": [
        "接著，我們將 IRIS 資料集讀取進來"
      ],
      "metadata": {
        "id": "T-CRglwlubW0"
      }
    },
    {
      "cell_type": "code",
      "source": [
        "iris = load_iris()"
      ],
      "metadata": {
        "id": "IiroNDJZubW0"
      },
      "execution_count": null,
      "outputs": []
    },
    {
      "cell_type": "markdown",
      "source": [
        "``iris`` 是一個類似字典（dict）變數"
      ],
      "metadata": {
        "id": "3Q_TAcKy1JlE"
      }
    },
    {
      "cell_type": "code",
      "source": [
        "iris.keys()"
      ],
      "metadata": {
        "id": "HESt_4u91HbM"
      },
      "execution_count": null,
      "outputs": []
    },
    {
      "cell_type": "markdown",
      "source": [
        "我們可以透過 ``iris[\"DESCR\"]`` 或是 ``iris.DESCR`` 來查看 IRIS 資料集的一些敘述"
      ],
      "metadata": {
        "id": "jUPAFGD01Qiy"
      }
    },
    {
      "cell_type": "code",
      "source": [
        "print(iris.DESCR)"
      ],
      "metadata": {
        "id": "iTrKPL4R1MWR"
      },
      "execution_count": null,
      "outputs": []
    },
    {
      "cell_type": "code",
      "source": [
        "X = iris.data\n",
        "Y = iris.target"
      ],
      "metadata": {
        "id": "iCY9gCy21XgA"
      },
      "execution_count": null,
      "outputs": []
    },
    {
      "cell_type": "markdown",
      "source": [
        "順便檢查一下資料的尺寸（shape）"
      ],
      "metadata": {
        "id": "z41CF1uAubW0"
      }
    },
    {
      "cell_type": "code",
      "source": [
        "print(X.shape)\n",
        "print(Y.shape)"
      ],
      "metadata": {
        "id": "Zspcj6kkubW0"
      },
      "execution_count": null,
      "outputs": []
    },
    {
      "cell_type": "markdown",
      "source": [
        "查看一下資料 ``X``"
      ],
      "metadata": {
        "id": "kUW_HxQd1_4v"
      }
    },
    {
      "cell_type": "code",
      "source": [
        "X[:10]"
      ],
      "metadata": {
        "id": "mQ3q9qLJ1--y"
      },
      "execution_count": null,
      "outputs": []
    },
    {
      "cell_type": "code",
      "source": [
        "print(iris.feature_names)"
      ],
      "metadata": {
        "id": "iQRSTnad1ssf"
      },
      "execution_count": null,
      "outputs": []
    },
    {
      "cell_type": "markdown",
      "source": [
        "查看一下類別標籤 ``Y``"
      ],
      "metadata": {
        "id": "EvRRXgnh18XF"
      }
    },
    {
      "cell_type": "code",
      "source": [
        "print(Y)"
      ],
      "metadata": {
        "id": "QLNoBidc12dS"
      },
      "execution_count": null,
      "outputs": []
    },
    {
      "cell_type": "markdown",
      "source": [
        "檢查有幾個類別"
      ],
      "metadata": {
        "id": "aYyJqQUN16NF"
      }
    },
    {
      "cell_type": "code",
      "source": [
        "np.unique(Y)"
      ],
      "metadata": {
        "id": "4j8mM77p13XH"
      },
      "execution_count": null,
      "outputs": []
    },
    {
      "cell_type": "code",
      "source": [
        "print(iris.target_names)"
      ],
      "metadata": {
        "id": "qfmML23d1poe"
      },
      "execution_count": null,
      "outputs": []
    },
    {
      "cell_type": "markdown",
      "source": [
        "## b) 查看資料集與分割訓練/測試資料"
      ],
      "metadata": {
        "id": "k5QJNm2N2jYY"
      }
    },
    {
      "cell_type": "markdown",
      "source": [
        "我們將資料的任意兩個特徵拿來化散佈圖"
      ],
      "metadata": {
        "id": "0aZp74Dp5EGu"
      }
    },
    {
      "cell_type": "code",
      "source": [
        "idx = [[0, 1],\n",
        "       [0, 2],\n",
        "       [0, 3],\n",
        "       [1, 2],\n",
        "       [1, 3],\n",
        "       [2, 3],\n",
        "       ]"
      ],
      "metadata": {
        "id": "mgHQMBAsDDUX"
      },
      "execution_count": null,
      "outputs": []
    },
    {
      "cell_type": "code",
      "source": [
        "plt.figure(figsize=(12, 8))\n",
        "for j, (p, q) in enumerate(idx):\n",
        "    plt.subplot(2, 3, j+1)\n",
        "    plt.scatter(X[:, p], X[:, q], c=Y)\n",
        "    plt.xlabel(iris.feature_names[p])\n",
        "    plt.ylabel(iris.feature_names[q])"
      ],
      "metadata": {
        "id": "A_-xwr9T2vw0"
      },
      "execution_count": null,
      "outputs": []
    },
    {
      "cell_type": "markdown",
      "source": [
        "也可以計算特徵和特徵之間的相關係數"
      ],
      "metadata": {
        "id": "oIDaH9Pz5I81"
      }
    },
    {
      "cell_type": "code",
      "source": [
        "X_corr = pd.DataFrame(X, columns=iris.feature_names).corr()\n",
        "plt.figure(figsize=(6, 6))\n",
        "sns.heatmap(X_corr,\n",
        "            cmap=\"coolwarm\",\n",
        "            vmin=-1,\n",
        "            vmax=1,\n",
        "            annot=True);"
      ],
      "metadata": {
        "id": "STpegps_4pXo"
      },
      "execution_count": null,
      "outputs": []
    },
    {
      "cell_type": "markdown",
      "source": [
        "我們選用最高度相關的兩個特徵，也就是 ``petal length (cm)`` 和 ``petal width (cm)``"
      ],
      "metadata": {
        "id": "qF1doYZY64ta"
      }
    },
    {
      "cell_type": "code",
      "source": [
        "X = X[:, 2:]"
      ],
      "metadata": {
        "id": "RYrJEcmK2vzA"
      },
      "execution_count": null,
      "outputs": []
    },
    {
      "cell_type": "markdown",
      "source": [
        "將資料集分成訓練與測試資料"
      ],
      "metadata": {
        "id": "GvCeBXCa2cPa"
      }
    },
    {
      "cell_type": "code",
      "source": [
        "from sklearn.model_selection import train_test_split\n",
        "x_train, x_test, y_train, y_test = train_test_split(X, Y,\n",
        "                                                    test_size=0.2,\n",
        "                                                    random_state=87)"
      ],
      "metadata": {
        "id": "1e40Hzz22eD-"
      },
      "execution_count": null,
      "outputs": []
    },
    {
      "cell_type": "code",
      "source": [
        "print(x_train.shape)\n",
        "print(y_train.shape)"
      ],
      "metadata": {
        "id": "roJufILq5oVr"
      },
      "execution_count": null,
      "outputs": []
    },
    {
      "cell_type": "markdown",
      "source": [
        "## c) 用 SVC 來打造非線性分類模型\n",
        "\n",
        "這邊一樣用到 ``SVC`` 這個基於支持向量機（SVM）的分類模型"
      ],
      "metadata": {
        "id": "K5GZ_Gg8ubW1"
      }
    },
    {
      "cell_type": "markdown",
      "source": [
        "我們先初始化一台非線性分類模型吧！"
      ],
      "metadata": {
        "id": "Qe8D1Q0oubW1"
      }
    },
    {
      "cell_type": "code",
      "source": [
        "clf = SVC()"
      ],
      "metadata": {
        "id": "E1FSU1usubW1"
      },
      "execution_count": null,
      "outputs": []
    },
    {
      "cell_type": "markdown",
      "source": [
        "接下來，就是要讓分類模型對資料進行分類學習"
      ],
      "metadata": {
        "id": "JN_um6lBubW1"
      }
    },
    {
      "cell_type": "code",
      "source": [
        "clf.fit(x_train, y_train)"
      ],
      "metadata": {
        "id": "uQXC23MbubW1"
      },
      "execution_count": null,
      "outputs": []
    },
    {
      "cell_type": "markdown",
      "source": [
        "這樣就結束了嗎？沒錯，在實務的資料科學任務中，訓練模型通常佔不到30%的比例。\n",
        "\n",
        "那我們接下來要做什麼呢？當然就看看我們的模型訓練得好不好囉~"
      ],
      "metadata": {
        "id": "6ldg4zvtubW1"
      }
    },
    {
      "cell_type": "markdown",
      "source": [
        "## d) 評估 SVC 分類模型的訓練結果\n"
      ],
      "metadata": {
        "id": "NNlUfOV6ubW1"
      }
    },
    {
      "cell_type": "markdown",
      "source": [
        "來看看訓練結果，我們使用 ``predict()`` 來對輸入資料進行預測"
      ],
      "metadata": {
        "id": "3EzouyqWubW1"
      }
    },
    {
      "cell_type": "code",
      "source": [
        "y_pred = clf.predict(x_test)\n",
        "print(y_pred)"
      ],
      "metadata": {
        "id": "zgZWDkg4ubW2"
      },
      "execution_count": null,
      "outputs": []
    },
    {
      "cell_type": "code",
      "source": [
        "plt.scatter(x_test[:,0], x_test[:,1], c=y_pred);"
      ],
      "metadata": {
        "id": "NAA2-2RoubW2"
      },
      "execution_count": null,
      "outputs": []
    },
    {
      "cell_type": "markdown",
      "source": [
        "如何判斷是否預測正確呢？"
      ],
      "metadata": {
        "id": "4byUthkq6G7P"
      }
    },
    {
      "cell_type": "code",
      "source": [
        "plt.scatter(x_test[:,0], x_test[:,1], c=y_test==y_pred);"
      ],
      "metadata": {
        "id": "vlm-iszj6Ie1"
      },
      "execution_count": null,
      "outputs": []
    },
    {
      "cell_type": "markdown",
      "source": [
        "同樣地，我們可以預測大範圍的區域內的每一個點的預測類別"
      ],
      "metadata": {
        "id": "xhq7ktyXubW2"
      }
    },
    {
      "cell_type": "code",
      "source": [
        "x1, x2 = np.meshgrid(np.arange(0, 7, 0.02), np.arange(0, 3, 0.02))\n",
        "Z = clf.predict(np.c_[x1.ravel(), x2.ravel()])\n",
        "Z = Z.reshape(x1.shape)"
      ],
      "metadata": {
        "id": "2PZbL6MaubW2"
      },
      "execution_count": null,
      "outputs": []
    },
    {
      "cell_type": "code",
      "source": [
        "plt.contourf(x1, x2, Z, cmap=\"coolwarm\")\n",
        "plt.scatter(X[:, 0], X[:, 1], c=Y);"
      ],
      "metadata": {
        "id": "-CfgD4ZKubW2"
      },
      "execution_count": null,
      "outputs": []
    },
    {
      "cell_type": "markdown",
      "source": [
        "# 範例 5：在鳶尾花資料集上打造 KNN 分類器\n",
        "\n",
        "我們一樣在 IRIS 資料集上建立我們的分類模型，只不過這次使用的是 KNN 演算法"
      ],
      "metadata": {
        "id": "R4FWPtkH7V5z"
      }
    },
    {
      "cell_type": "markdown",
      "source": [
        "## a) 準備資料集"
      ],
      "metadata": {
        "id": "ZB5OS9_A7V54"
      }
    },
    {
      "cell_type": "markdown",
      "source": [
        "接著，我們重新將 IRIS 資料集讀取進來"
      ],
      "metadata": {
        "id": "2T3UKkvP7V54"
      }
    },
    {
      "cell_type": "code",
      "source": [
        "X = iris.data\n",
        "Y = iris.target"
      ],
      "metadata": {
        "id": "BIZ4qgNJ7V55"
      },
      "execution_count": null,
      "outputs": []
    },
    {
      "cell_type": "markdown",
      "source": [
        "順便檢查一下資料的尺寸（shape）"
      ],
      "metadata": {
        "id": "hK46oU5B7V55"
      }
    },
    {
      "cell_type": "code",
      "source": [
        "print(X.shape)\n",
        "print(Y.shape)"
      ],
      "metadata": {
        "id": "wsFpIpoe7V55"
      },
      "execution_count": null,
      "outputs": []
    },
    {
      "cell_type": "markdown",
      "source": [
        "我們一樣選用最高度相關的兩個特徵，也就是 ``petal length (cm)`` 和 ``petal width (cm)``"
      ],
      "metadata": {
        "id": "9E8ma7q88V0i"
      }
    },
    {
      "cell_type": "code",
      "source": [
        "X = X[:, 2:]"
      ],
      "metadata": {
        "id": "5iy1cErt8V0i"
      },
      "execution_count": null,
      "outputs": []
    },
    {
      "cell_type": "markdown",
      "source": [
        "將資料集分成訓練與測試資料"
      ],
      "metadata": {
        "id": "BdYeC_rN8V0j"
      }
    },
    {
      "cell_type": "code",
      "source": [
        "from sklearn.model_selection import train_test_split\n",
        "x_train, x_test, y_train, y_test = train_test_split(X, Y,\n",
        "                                                    test_size=0.2,\n",
        "                                                    random_state=87)"
      ],
      "metadata": {
        "id": "9-RNyj1c8V0j"
      },
      "execution_count": null,
      "outputs": []
    },
    {
      "cell_type": "code",
      "source": [
        "print(x_train.shape)\n",
        "print(y_train.shape)"
      ],
      "metadata": {
        "id": "7OdSMC3E8V0j"
      },
      "execution_count": null,
      "outputs": []
    },
    {
      "cell_type": "markdown",
      "source": [
        "## c) 用 KNN 演算法 來打造分類模型\n"
      ],
      "metadata": {
        "id": "OOJnyzBI7V57"
      }
    },
    {
      "cell_type": "markdown",
      "source": [
        "我們這邊使用的是 KNN 演算法來進行分類"
      ],
      "metadata": {
        "id": "TelzT9KE79On"
      }
    },
    {
      "cell_type": "code",
      "source": [
        "from sklearn.neighbors import KNeighborsClassifier as KNC"
      ],
      "metadata": {
        "id": "q_epvr3Q79iX"
      },
      "execution_count": null,
      "outputs": []
    },
    {
      "cell_type": "markdown",
      "source": [
        "我們先初始化一台線性分類模型吧！"
      ],
      "metadata": {
        "id": "FkijKqB07V57"
      }
    },
    {
      "cell_type": "code",
      "source": [
        "clf = KNC(n_neighbors=5)"
      ],
      "metadata": {
        "id": "fuXcKb2y7V57"
      },
      "execution_count": null,
      "outputs": []
    },
    {
      "cell_type": "markdown",
      "source": [
        "接下來，就是要讓分類模型對資料進行分類學習"
      ],
      "metadata": {
        "id": "s6ymVFqI7V57"
      }
    },
    {
      "cell_type": "code",
      "source": [
        "clf.fit(x_train, y_train)"
      ],
      "metadata": {
        "id": "MO00J1bT7V57"
      },
      "execution_count": null,
      "outputs": []
    },
    {
      "cell_type": "markdown",
      "source": [
        "這樣就結束了嗎？沒錯，在實務的資料科學任務中，訓練模型通常佔不到30%的比例。\n",
        "\n",
        "那我們接下來要做什麼呢？當然就看看我們的模型訓練得好不好囉~"
      ],
      "metadata": {
        "id": "XyAyn5YC7V57"
      }
    },
    {
      "cell_type": "markdown",
      "source": [
        "## d) 評估 KNN 分類模型的訓練結果\n"
      ],
      "metadata": {
        "id": "U_3ESBnc7V57"
      }
    },
    {
      "cell_type": "markdown",
      "source": [
        "來看看訓練結果，我們使用 ``predict()`` 來對輸入資料進行預測"
      ],
      "metadata": {
        "id": "y4XZ4lPx7V57"
      }
    },
    {
      "cell_type": "code",
      "source": [
        "y_pred = clf.predict(x_test)\n",
        "print(y_pred)"
      ],
      "metadata": {
        "id": "5fDOvUHu7V57"
      },
      "execution_count": null,
      "outputs": []
    },
    {
      "cell_type": "code",
      "source": [
        "plt.scatter(x_test[:,0], x_test[:,1], c=y_pred);"
      ],
      "metadata": {
        "id": "F-EQUKIj7V57"
      },
      "execution_count": null,
      "outputs": []
    },
    {
      "cell_type": "markdown",
      "source": [
        "如何判斷是否預測正確呢？"
      ],
      "metadata": {
        "id": "aK13DZSA7V58"
      }
    },
    {
      "cell_type": "code",
      "source": [
        "plt.scatter(x_test[:,0], x_test[:,1], c=y_test==y_pred);"
      ],
      "metadata": {
        "id": "qJTeAy-u7V58"
      },
      "execution_count": null,
      "outputs": []
    },
    {
      "cell_type": "markdown",
      "source": [
        "同樣地，我們可以預測大範圍的區域內的每一個點的類別"
      ],
      "metadata": {
        "id": "DAwc0BUu7V58"
      }
    },
    {
      "cell_type": "code",
      "source": [
        "x1, x2 = np.meshgrid(np.arange(0, 7, 0.02), np.arange(0, 3, 0.02))\n",
        "Z = clf.predict(np.c_[x1.ravel(), x2.ravel()])\n",
        "Z = Z.reshape(x1.shape)"
      ],
      "metadata": {
        "id": "7hGbSLHZ7V58"
      },
      "execution_count": null,
      "outputs": []
    },
    {
      "cell_type": "code",
      "source": [
        "plt.contourf(x1, x2, Z, cmap=\"coolwarm\")\n",
        "plt.scatter(X[:, 0], X[:, 1], c=Y);"
      ],
      "metadata": {
        "id": "fIb-TGgT7V58"
      },
      "execution_count": null,
      "outputs": []
    },
    {
      "cell_type": "markdown",
      "source": [
        "# 範例 6：進行 K-means 分群演算法\n",
        "\n",
        "這次，我們要在簡單的資料集上嘗試進行 K-menas 分群演算法"
      ],
      "metadata": {
        "id": "jhsvyZ2V8vSG"
      }
    },
    {
      "cell_type": "markdown",
      "source": [
        "## a) 準備資料集\n",
        "\n",
        "我們在 2 為平面上隨便生成 100 個點"
      ],
      "metadata": {
        "id": "vHdl7Keu8vSG"
      }
    },
    {
      "cell_type": "code",
      "source": [
        "X = np.random.rand(100, 2)"
      ],
      "metadata": {
        "id": "TbIvkGhb8vSG"
      },
      "execution_count": null,
      "outputs": []
    },
    {
      "cell_type": "code",
      "source": [
        "plt.scatter(X[:,0], X[:,1], s=50);"
      ],
      "metadata": {
        "id": "5RLFNNXX-42L"
      },
      "execution_count": null,
      "outputs": []
    },
    {
      "cell_type": "markdown",
      "source": [
        "## b) 用 K-means 演算法進行分群\n"
      ],
      "metadata": {
        "id": "FomkbPJt8vSJ"
      }
    },
    {
      "cell_type": "markdown",
      "source": [
        "我們這邊使用的是 K-means 演算法來進行分類"
      ],
      "metadata": {
        "id": "-cYttfUF8vSJ"
      }
    },
    {
      "cell_type": "code",
      "source": [
        "from sklearn.cluster import KMeans"
      ],
      "metadata": {
        "id": "_X7K7Oo88vSJ"
      },
      "execution_count": null,
      "outputs": []
    },
    {
      "cell_type": "markdown",
      "source": [
        "我們先初始化 K-means 演算法吧！"
      ],
      "metadata": {
        "id": "6mLg2Nwn8vSJ"
      }
    },
    {
      "cell_type": "code",
      "source": [
        "kmeans = KMeans(n_clusters=3)"
      ],
      "metadata": {
        "id": "l-pdVfxr8vSJ"
      },
      "execution_count": null,
      "outputs": []
    },
    {
      "cell_type": "markdown",
      "source": [
        "接下來，就是要讓 K-means 演算法對資料進行分群"
      ],
      "metadata": {
        "id": "ftlTTGYC8vSJ"
      }
    },
    {
      "cell_type": "code",
      "source": [
        "kmeans.fit(X)"
      ],
      "metadata": {
        "id": "ZLLcp0vx8vSJ"
      },
      "execution_count": null,
      "outputs": []
    },
    {
      "cell_type": "markdown",
      "source": [
        "這樣就結束了嗎？沒錯，在實務的資料科學任務中，訓練模型通常佔不到30%的比例。\n",
        "\n",
        "那我們接下來要做什麼呢？當然就看看我們的模型訓練得好不好囉~"
      ],
      "metadata": {
        "id": "k05EVnvh8vSJ"
      }
    },
    {
      "cell_type": "markdown",
      "source": [
        "## d) 觀察 K-means 演算法的分群結果\n"
      ],
      "metadata": {
        "id": "-vhAPsUg8vSJ"
      }
    },
    {
      "cell_type": "markdown",
      "source": [
        "來看看訓練結果，我們使用 ``labels_`` 來看看每個資料點分別屬於哪一群"
      ],
      "metadata": {
        "id": "1gLfPUuu8vSJ"
      }
    },
    {
      "cell_type": "code",
      "source": [
        "kmeans.labels_"
      ],
      "metadata": {
        "id": "kYWoLk_I8vSJ"
      },
      "execution_count": null,
      "outputs": []
    },
    {
      "cell_type": "code",
      "source": [
        "plt.scatter(X[:,0], X[:,1], c=kmeans.labels_, s=50);"
      ],
      "metadata": {
        "id": "hTcgB_Km8vSK"
      },
      "execution_count": null,
      "outputs": []
    },
    {
      "cell_type": "markdown",
      "source": [
        "同樣地，我們可以預測大範圍的區域內的每一個點的預測類別"
      ],
      "metadata": {
        "id": "x0Gm_OpF_O0Y"
      }
    },
    {
      "cell_type": "code",
      "source": [
        "x1, x2 = np.meshgrid(np.arange(-0.2, 1.2, 0.02), np.arange(-0.2, 1.2, 0.02))\n",
        "Z = kmeans.predict(np.c_[x1.ravel(), x2.ravel()])\n",
        "z = Z.reshape(x1.shape)"
      ],
      "metadata": {
        "id": "HinTGAhh8vSK"
      },
      "execution_count": null,
      "outputs": []
    },
    {
      "cell_type": "code",
      "source": [
        "plt.contourf(x1, x2, z, alpha=0.3)\n",
        "plt.scatter(X[:,0], X[:,1], s=100, c=kmeans.labels_)"
      ],
      "metadata": {
        "id": "Vs-ahpLr_L6L"
      },
      "execution_count": null,
      "outputs": []
    },
    {
      "cell_type": "code",
      "source": [],
      "metadata": {
        "id": "IvvEaVFN_MDV"
      },
      "execution_count": null,
      "outputs": []
    },
    {
      "cell_type": "markdown",
      "source": [
        "# 範例 7：進行手寫辨識分類模型\n",
        "\n",
        "這次，我們要使用手寫數字資料集 MNIST 來進行分類"
      ],
      "metadata": {
        "id": "7WH4SuP6OQGh"
      }
    },
    {
      "cell_type": "code",
      "source": [
        "from sklearn.svm import LinearSVC"
      ],
      "metadata": {
        "id": "Szm2mXfQkS1G"
      },
      "execution_count": null,
      "outputs": []
    },
    {
      "cell_type": "markdown",
      "source": [
        "首先，我們使用 TensorFlow 內建的資料集"
      ],
      "metadata": {
        "id": "rVim2vccOmp-"
      }
    },
    {
      "cell_type": "markdown",
      "source": [
        "## a) 準備資料集"
      ],
      "metadata": {
        "id": "Wiz2tGUkOmp-"
      }
    },
    {
      "cell_type": "code",
      "execution_count": null,
      "metadata": {
        "id": "1Bt342o-Omp-"
      },
      "outputs": [],
      "source": [
        "from tensorflow.keras.datasets import mnist"
      ]
    },
    {
      "cell_type": "markdown",
      "source": [
        "接著，我們將 MNISTS 資料集讀取進來，很棒的一點是，訓練和測試資料都幫我們切好了"
      ],
      "metadata": {
        "id": "uizjKt2-Omp-"
      }
    },
    {
      "cell_type": "code",
      "source": [
        "(x_train, y_train), (x_test, y_test) = mnist.load_data()"
      ],
      "metadata": {
        "id": "VkFMnSDSOmp-"
      },
      "execution_count": null,
      "outputs": []
    },
    {
      "cell_type": "markdown",
      "source": [
        "順便檢查一下資料的尺寸（shape）"
      ],
      "metadata": {
        "id": "a46JksSyOmp_"
      }
    },
    {
      "cell_type": "code",
      "source": [
        "print(x_train.shape)\n",
        "print(y_train.shape)\n",
        "\n",
        "print(x_test.shape)\n",
        "print(y_test.shape)"
      ],
      "metadata": {
        "id": "uKJI2NkGOmp_"
      },
      "execution_count": null,
      "outputs": []
    },
    {
      "cell_type": "markdown",
      "source": [
        "我們只取前 10% 的資料即可"
      ],
      "metadata": {
        "id": "giRDfI6HlZHv"
      }
    },
    {
      "cell_type": "code",
      "source": [
        "x_train = x_train[:6000]\n",
        "y_train = y_train[:6000]\n",
        "x_test = x_test[:1000]\n",
        "y_test = y_test[:1000]"
      ],
      "metadata": {
        "id": "Ckv2AyUFlYvp"
      },
      "execution_count": null,
      "outputs": []
    },
    {
      "cell_type": "markdown",
      "source": [
        "查看一下 ``x_train`` 中的一筆資料"
      ],
      "metadata": {
        "id": "qhJnWKsYOmp_"
      }
    },
    {
      "cell_type": "code",
      "source": [
        "x_train[0]"
      ],
      "metadata": {
        "id": "IVx5R4w6Omp_"
      },
      "execution_count": null,
      "outputs": []
    },
    {
      "cell_type": "markdown",
      "source": [
        "查看一下類別標籤 ``y_train``"
      ],
      "metadata": {
        "id": "8r2V39uiOmp_"
      }
    },
    {
      "cell_type": "code",
      "source": [
        "print(y_train)"
      ],
      "metadata": {
        "id": "uj8EJ2PcOmp_"
      },
      "execution_count": null,
      "outputs": []
    },
    {
      "cell_type": "markdown",
      "source": [
        "檢查有幾個類別"
      ],
      "metadata": {
        "id": "2tIomDNgOmp_"
      }
    },
    {
      "cell_type": "code",
      "source": [
        "np.unique(y_train)"
      ],
      "metadata": {
        "id": "VPJy3SYcOmp_"
      },
      "execution_count": null,
      "outputs": []
    },
    {
      "cell_type": "code",
      "source": [
        "_, axes = plt.subplots(nrows=2, ncols=5, figsize=(10, 3))\n",
        "for i, img, label in zip(range(10), x_train, y_train):\n",
        "    plt.subplot(2, 5, i+1)\n",
        "    plt.imshow(img, cmap=\"gray_r\", interpolation=\"nearest\")\n",
        "    plt.title(f\"Training: {label}\")\n",
        "    plt.axis('off');"
      ],
      "metadata": {
        "id": "c48h8e9TOmp_"
      },
      "execution_count": null,
      "outputs": []
    },
    {
      "cell_type": "markdown",
      "source": [
        "將每一張圖片從 $28\\times 28$ 拉平（flatten）成一個 $28\\times28=784$ 維的向量"
      ],
      "metadata": {
        "id": "QGVGceBDUz_G"
      }
    },
    {
      "cell_type": "code",
      "source": [
        "x_train = x_train.reshape(-1, 28*28) / 255"
      ],
      "metadata": {
        "id": "4n38mLVmU9Lc"
      },
      "execution_count": null,
      "outputs": []
    },
    {
      "cell_type": "code",
      "source": [
        "print(x_train.shape)"
      ],
      "metadata": {
        "id": "cmR7vp3pU8dh"
      },
      "execution_count": null,
      "outputs": []
    },
    {
      "cell_type": "code",
      "source": [
        "x_test = x_test.reshape(-1, 28*28) / 255\n",
        "print(x_test.shape)"
      ],
      "metadata": {
        "id": "_KF91l1Mj4ND"
      },
      "execution_count": null,
      "outputs": []
    },
    {
      "cell_type": "markdown",
      "source": [
        "## c) 用 SVC 來打造非線性分類模型\n",
        "\n",
        "這邊一樣用到 ``SVC`` 這個基於支持向量機（SVM）的分類模型"
      ],
      "metadata": {
        "id": "EQlXLXpOOmqB"
      }
    },
    {
      "cell_type": "markdown",
      "source": [
        "我們先初始化一台非線性分類模型吧！"
      ],
      "metadata": {
        "id": "_wOhvj7oOmqB"
      }
    },
    {
      "cell_type": "code",
      "source": [
        "clf = SVC()"
      ],
      "metadata": {
        "id": "nPPdJgnbOmqB"
      },
      "execution_count": null,
      "outputs": []
    },
    {
      "cell_type": "markdown",
      "source": [
        "接下來，就是要讓分類模型對資料進行分類學習"
      ],
      "metadata": {
        "id": "va5FBzgqOmqB"
      }
    },
    {
      "cell_type": "code",
      "source": [
        "clf.fit(x_train, y_train)"
      ],
      "metadata": {
        "id": "W0ik2pKgOmqB"
      },
      "execution_count": null,
      "outputs": []
    },
    {
      "cell_type": "markdown",
      "source": [
        "這次會稍微有點久"
      ],
      "metadata": {
        "id": "YhzdbYZuOmqB"
      }
    },
    {
      "cell_type": "markdown",
      "source": [
        "## d) 評估 SVC 分類模型的訓練結果\n"
      ],
      "metadata": {
        "id": "KWYlyiriOmqB"
      }
    },
    {
      "cell_type": "markdown",
      "source": [
        "來看看訓練結果，我們使用 ``predict()`` 來對輸入資料進行預測"
      ],
      "metadata": {
        "id": "R9KrS9LQOmqB"
      }
    },
    {
      "cell_type": "code",
      "source": [
        "y_pred = clf.predict(x_test)\n",
        "print(y_pred)"
      ],
      "metadata": {
        "id": "E-VN86O7OmqC"
      },
      "execution_count": null,
      "outputs": []
    },
    {
      "cell_type": "markdown",
      "source": [
        "從測試資料挑前 10 筆出來看看，並看看 SVC 模型預測的是否正確"
      ],
      "metadata": {
        "id": "BqAvgUITVqaB"
      }
    },
    {
      "cell_type": "code",
      "source": [
        "_, axes = plt.subplots(nrows=2, ncols=5, figsize=(10, 3))\n",
        "for i, img, label in zip(range(10), x_test, y_pred):\n",
        "    plt.subplot(2, 5, i+1)\n",
        "    plt.imshow(img.reshape(28, 28), cmap=\"gray_r\", interpolation=\"nearest\")\n",
        "    plt.title(f\"Prediction: {label}\")\n",
        "    plt.axis('off');"
      ],
      "metadata": {
        "id": "6aX9DEl4OmqC"
      },
      "execution_count": null,
      "outputs": []
    },
    {
      "cell_type": "markdown",
      "source": [
        "資料這麼多，每筆資料又是高維度的資料，如何看出模型是否有正確從訓練資料當中學習呢？"
      ],
      "metadata": {
        "id": "umtSzQOAOmqC"
      }
    },
    {
      "cell_type": "code",
      "source": [
        "from sklearn.metrics import classification_report, confusion_matrix"
      ],
      "metadata": {
        "id": "arQK7q6jV8ra"
      },
      "execution_count": null,
      "outputs": []
    },
    {
      "cell_type": "code",
      "source": [
        "print(classification_report(y_test, y_pred))"
      ],
      "metadata": {
        "id": "SU2fYF8hOmqC"
      },
      "execution_count": null,
      "outputs": []
    },
    {
      "cell_type": "code",
      "source": [
        "sns.heatmap(confusion_matrix(y_test, y_pred),\n",
        "            cmap=\"coolwarm\",\n",
        "            annot=True,\n",
        "            fmt=\"g\");"
      ],
      "metadata": {
        "id": "K2woHwIZWN3C"
      },
      "execution_count": null,
      "outputs": []
    },
    {
      "cell_type": "code",
      "source": [],
      "metadata": {
        "id": "FJKGoYwll6Ap"
      },
      "execution_count": null,
      "outputs": []
    }
  ]
}